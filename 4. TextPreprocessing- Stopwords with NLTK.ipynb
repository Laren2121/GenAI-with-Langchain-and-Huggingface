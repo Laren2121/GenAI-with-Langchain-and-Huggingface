{
 "cells": [
  {
   "cell_type": "code",
   "execution_count": 111,
   "id": "c4c7d89b-3319-40fd-a4b8-38e1709c76e0",
   "metadata": {},
   "outputs": [],
   "source": [
    "paragraph = \"\"\"\n",
    "My dear young friends of India,\n",
    "I stand before you today with a heart full of hope and a mind brimming with dreams for our great nation. I have three visions for India: Freedom, Development, and Strength. These are not just words, but the pillars upon which we must build our future.\n",
    "First, freedom. We have won our political freedom, but now we must strive for freedom from poverty, illiteracy, and corruption. We must protect our hard-earned liberty, nurture it, and build upon it. Freedom is not just a right, but a responsibility. We must use our freedom to innovate, to create, and to propel India forward.\n",
    "Second, development. It's time we see ourselves as a developed nation, not just a developing one. We have achieved much, but we often lack the self-confidence to recognize it. Our scientists have sent missions to Mars, our IT professionals are sought after worldwide, and our youth are making breakthroughs in various fields. Let us shed our inferiority complex and embrace our potential.\n",
    "Third, strength. India must stand up to the world, for only strength respects strength. We need to be strong not just militarily, but economically, scientifically, and morally. Our strength lies in our unity, our diversity, and our indomitable spirit.\n",
    "Remember, my young friends, that excellence is a continuous process, not an accident. It comes with continuous effort, planning, and execution. Have the courage to think differently, to invent, to travel the unexplored path, to discover the impossible, and to conquer the problems and succeed.\n",
    "Great dreams of great dreamers are always transcended. You are the future of India. The ignited mind of the youth is the most powerful resource on the earth, above the earth, and under the earth. Your generation has the power to transform our nation.\n",
    "But dreams alone are not enough. We need action. Ask not what your country can do for you, but what you can do for your country. Each one of you has the potential to contribute to nation-building. Whether you become a scientist, a teacher, an entrepreneur, or choose any other profession, your work can make a difference.\n",
    "In conclusion, I want you to remember this: \"Dream, dream, dream. Dreams transform into thoughts and thoughts result in action.\" Let your thoughts and actions be the spark that ignites the fire of progress in our nation.\n",
    "May God bless you and our great nation, India. Thank you.\n",
    "\"\"\""
   ]
  },
  {
   "cell_type": "code",
   "execution_count": 113,
   "id": "c4093298-9f3b-4add-ab39-13d6bd0c6da7",
   "metadata": {},
   "outputs": [],
   "source": [
    "from nltk.stem import PorterStemmer"
   ]
  },
  {
   "cell_type": "code",
   "execution_count": 115,
   "id": "afe74847-91fa-418b-90ab-666a1d38b829",
   "metadata": {},
   "outputs": [],
   "source": [
    "from nltk.corpus import stopwords"
   ]
  },
  {
   "cell_type": "code",
   "execution_count": 117,
   "id": "f9687574-5710-4c18-a4fa-93bc11d48eca",
   "metadata": {},
   "outputs": [
    {
     "name": "stderr",
     "output_type": "stream",
     "text": [
      "[nltk_data] Downloading package stopwords to\n",
      "[nltk_data]     /Users/larendcruz/nltk_data...\n",
      "[nltk_data]   Package stopwords is already up-to-date!\n"
     ]
    },
    {
     "data": {
      "text/plain": [
       "True"
      ]
     },
     "execution_count": 117,
     "metadata": {},
     "output_type": "execute_result"
    }
   ],
   "source": [
    "import nltk\n",
    "nltk.download('stopwords')"
   ]
  },
  {
   "cell_type": "code",
   "execution_count": 119,
   "id": "68272d96-bb95-471f-a105-1fec88b206d8",
   "metadata": {
    "scrolled": true
   },
   "outputs": [
    {
     "data": {
      "text/plain": [
       "['i',\n",
       " 'me',\n",
       " 'my',\n",
       " 'myself',\n",
       " 'we',\n",
       " 'our',\n",
       " 'ours',\n",
       " 'ourselves',\n",
       " 'you',\n",
       " \"you're\",\n",
       " \"you've\",\n",
       " \"you'll\",\n",
       " \"you'd\",\n",
       " 'your',\n",
       " 'yours',\n",
       " 'yourself',\n",
       " 'yourselves',\n",
       " 'he',\n",
       " 'him',\n",
       " 'his',\n",
       " 'himself',\n",
       " 'she',\n",
       " \"she's\",\n",
       " 'her',\n",
       " 'hers',\n",
       " 'herself',\n",
       " 'it',\n",
       " \"it's\",\n",
       " 'its',\n",
       " 'itself',\n",
       " 'they',\n",
       " 'them',\n",
       " 'their',\n",
       " 'theirs',\n",
       " 'themselves',\n",
       " 'what',\n",
       " 'which',\n",
       " 'who',\n",
       " 'whom',\n",
       " 'this',\n",
       " 'that',\n",
       " \"that'll\",\n",
       " 'these',\n",
       " 'those',\n",
       " 'am',\n",
       " 'is',\n",
       " 'are',\n",
       " 'was',\n",
       " 'were',\n",
       " 'be',\n",
       " 'been',\n",
       " 'being',\n",
       " 'have',\n",
       " 'has',\n",
       " 'had',\n",
       " 'having',\n",
       " 'do',\n",
       " 'does',\n",
       " 'did',\n",
       " 'doing',\n",
       " 'a',\n",
       " 'an',\n",
       " 'the',\n",
       " 'and',\n",
       " 'but',\n",
       " 'if',\n",
       " 'or',\n",
       " 'because',\n",
       " 'as',\n",
       " 'until',\n",
       " 'while',\n",
       " 'of',\n",
       " 'at',\n",
       " 'by',\n",
       " 'for',\n",
       " 'with',\n",
       " 'about',\n",
       " 'against',\n",
       " 'between',\n",
       " 'into',\n",
       " 'through',\n",
       " 'during',\n",
       " 'before',\n",
       " 'after',\n",
       " 'above',\n",
       " 'below',\n",
       " 'to',\n",
       " 'from',\n",
       " 'up',\n",
       " 'down',\n",
       " 'in',\n",
       " 'out',\n",
       " 'on',\n",
       " 'off',\n",
       " 'over',\n",
       " 'under',\n",
       " 'again',\n",
       " 'further',\n",
       " 'then',\n",
       " 'once',\n",
       " 'here',\n",
       " 'there',\n",
       " 'when',\n",
       " 'where',\n",
       " 'why',\n",
       " 'how',\n",
       " 'all',\n",
       " 'any',\n",
       " 'both',\n",
       " 'each',\n",
       " 'few',\n",
       " 'more',\n",
       " 'most',\n",
       " 'other',\n",
       " 'some',\n",
       " 'such',\n",
       " 'no',\n",
       " 'nor',\n",
       " 'not',\n",
       " 'only',\n",
       " 'own',\n",
       " 'same',\n",
       " 'so',\n",
       " 'than',\n",
       " 'too',\n",
       " 'very',\n",
       " 's',\n",
       " 't',\n",
       " 'can',\n",
       " 'will',\n",
       " 'just',\n",
       " 'don',\n",
       " \"don't\",\n",
       " 'should',\n",
       " \"should've\",\n",
       " 'now',\n",
       " 'd',\n",
       " 'll',\n",
       " 'm',\n",
       " 'o',\n",
       " 're',\n",
       " 've',\n",
       " 'y',\n",
       " 'ain',\n",
       " 'aren',\n",
       " \"aren't\",\n",
       " 'couldn',\n",
       " \"couldn't\",\n",
       " 'didn',\n",
       " \"didn't\",\n",
       " 'doesn',\n",
       " \"doesn't\",\n",
       " 'hadn',\n",
       " \"hadn't\",\n",
       " 'hasn',\n",
       " \"hasn't\",\n",
       " 'haven',\n",
       " \"haven't\",\n",
       " 'isn',\n",
       " \"isn't\",\n",
       " 'ma',\n",
       " 'mightn',\n",
       " \"mightn't\",\n",
       " 'mustn',\n",
       " \"mustn't\",\n",
       " 'needn',\n",
       " \"needn't\",\n",
       " 'shan',\n",
       " \"shan't\",\n",
       " 'shouldn',\n",
       " \"shouldn't\",\n",
       " 'wasn',\n",
       " \"wasn't\",\n",
       " 'weren',\n",
       " \"weren't\",\n",
       " 'won',\n",
       " \"won't\",\n",
       " 'wouldn',\n",
       " \"wouldn't\"]"
      ]
     },
     "execution_count": 119,
     "metadata": {},
     "output_type": "execute_result"
    }
   ],
   "source": [
    "stopwords.words('english')"
   ]
  },
  {
   "cell_type": "code",
   "execution_count": 121,
   "id": "398df5cc-4eda-454f-84a4-ea1792f83c48",
   "metadata": {},
   "outputs": [],
   "source": [
    "stemmer = PorterStemmer()"
   ]
  },
  {
   "cell_type": "code",
   "execution_count": 151,
   "id": "7ad44bcd-8fe6-4441-8b7b-c74b1d9e7037",
   "metadata": {
    "scrolled": true
   },
   "outputs": [],
   "source": [
    "sentences = nltk.sent_tokenize(paragraph)"
   ]
  },
  {
   "cell_type": "code",
   "execution_count": 153,
   "id": "be1ce657-8468-4f86-aef9-c604a817f668",
   "metadata": {},
   "outputs": [
    {
     "data": {
      "text/plain": [
       "['\\nMy dear young friends of India,\\nI stand before you today with a heart full of hope and a mind brimming with dreams for our great nation.',\n",
       " 'I have three visions for India: Freedom, Development, and Strength.',\n",
       " 'These are not just words, but the pillars upon which we must build our future.',\n",
       " 'First, freedom.',\n",
       " 'We have won our political freedom, but now we must strive for freedom from poverty, illiteracy, and corruption.',\n",
       " 'We must protect our hard-earned liberty, nurture it, and build upon it.',\n",
       " 'Freedom is not just a right, but a responsibility.',\n",
       " 'We must use our freedom to innovate, to create, and to propel India forward.',\n",
       " 'Second, development.',\n",
       " \"It's time we see ourselves as a developed nation, not just a developing one.\",\n",
       " 'We have achieved much, but we often lack the self-confidence to recognize it.',\n",
       " 'Our scientists have sent missions to Mars, our IT professionals are sought after worldwide, and our youth are making breakthroughs in various fields.',\n",
       " 'Let us shed our inferiority complex and embrace our potential.',\n",
       " 'Third, strength.',\n",
       " 'India must stand up to the world, for only strength respects strength.',\n",
       " 'We need to be strong not just militarily, but economically, scientifically, and morally.',\n",
       " 'Our strength lies in our unity, our diversity, and our indomitable spirit.',\n",
       " 'Remember, my young friends, that excellence is a continuous process, not an accident.',\n",
       " 'It comes with continuous effort, planning, and execution.',\n",
       " 'Have the courage to think differently, to invent, to travel the unexplored path, to discover the impossible, and to conquer the problems and succeed.',\n",
       " 'Great dreams of great dreamers are always transcended.',\n",
       " 'You are the future of India.',\n",
       " 'The ignited mind of the youth is the most powerful resource on the earth, above the earth, and under the earth.',\n",
       " 'Your generation has the power to transform our nation.',\n",
       " 'But dreams alone are not enough.',\n",
       " 'We need action.',\n",
       " 'Ask not what your country can do for you, but what you can do for your country.',\n",
       " 'Each one of you has the potential to contribute to nation-building.',\n",
       " 'Whether you become a scientist, a teacher, an entrepreneur, or choose any other profession, your work can make a difference.',\n",
       " 'In conclusion, I want you to remember this: \"Dream, dream, dream.',\n",
       " 'Dreams transform into thoughts and thoughts result in action.\"',\n",
       " 'Let your thoughts and actions be the spark that ignites the fire of progress in our nation.',\n",
       " 'May God bless you and our great nation, India.',\n",
       " 'Thank you.']"
      ]
     },
     "execution_count": 153,
     "metadata": {},
     "output_type": "execute_result"
    }
   ],
   "source": [
    "sentences"
   ]
  },
  {
   "cell_type": "code",
   "execution_count": 127,
   "id": "ec0e3b0a-6a72-4fa1-bff5-11b8349918ac",
   "metadata": {},
   "outputs": [],
   "source": [
    "## Apply Stopwords and Filter and then apply Stemming\n",
    "\n",
    "for i in range(len(sentences)):\n",
    "    words = nltk.word_tokenize(sentences[i])\n",
    "    #print(words)\n",
    "    words = [stemmer.stem(word) for word in words if word not in set(stopwords.words('english'))]\n",
    "    #print(words)\n",
    "    sentences[i] = ' '.join(words) #converting all the list of words to sentences"
   ]
  },
  {
   "cell_type": "code",
   "execution_count": 129,
   "id": "dca2f6c4-21ca-435d-ad39-08726e3d7006",
   "metadata": {},
   "outputs": [
    {
     "data": {
      "text/plain": [
       "['my dear young friend india , i stand today heart full hope mind brim dream great nation .',\n",
       " 'i three vision india : freedom , develop , strength .',\n",
       " 'these word , pillar upon must build futur .',\n",
       " 'first , freedom .',\n",
       " 'we polit freedom , must strive freedom poverti , illiteraci , corrupt .',\n",
       " 'we must protect hard-earn liberti , nurtur , build upon .',\n",
       " 'freedom right , respons .',\n",
       " 'we must use freedom innov , creat , propel india forward .',\n",
       " 'second , develop .',\n",
       " \"it 's time see develop nation , develop one .\",\n",
       " 'we achiev much , often lack self-confid recogn .',\n",
       " 'our scientist sent mission mar , it profession sought worldwid , youth make breakthrough variou field .',\n",
       " 'let us shed inferior complex embrac potenti .',\n",
       " 'third , strength .',\n",
       " 'india must stand world , strength respect strength .',\n",
       " 'we need strong militarili , econom , scientif , moral .',\n",
       " 'our strength lie uniti , divers , indomit spirit .',\n",
       " 'rememb , young friend , excel continu process , accid .',\n",
       " 'it come continu effort , plan , execut .',\n",
       " 'have courag think differ , invent , travel unexplor path , discov imposs , conquer problem succeed .',\n",
       " 'great dream great dreamer alway transcend .',\n",
       " 'you futur india .',\n",
       " 'the ignit mind youth power resourc earth , earth , earth .',\n",
       " 'your gener power transform nation .',\n",
       " 'but dream alon enough .',\n",
       " 'we need action .',\n",
       " 'ask countri , countri .',\n",
       " 'each one potenti contribut nation-build .',\n",
       " 'whether becom scientist , teacher , entrepreneur , choos profess , work make differ .',\n",
       " 'in conclus , i want rememb : `` dream , dream , dream .',\n",
       " \"dream transform thought thought result action . ''\",\n",
       " 'let thought action spark ignit fire progress nation .',\n",
       " 'may god bless great nation , india .',\n",
       " 'thank .']"
      ]
     },
     "execution_count": 129,
     "metadata": {},
     "output_type": "execute_result"
    }
   ],
   "source": [
    "sentences"
   ]
  },
  {
   "cell_type": "code",
   "execution_count": 131,
   "id": "9ea4cd1c-3e49-4030-8fc2-9d4a9f979d1f",
   "metadata": {},
   "outputs": [],
   "source": [
    "from nltk.stem import SnowballStemmer\n",
    "snowballstemmer = SnowballStemmer('english')"
   ]
  },
  {
   "cell_type": "code",
   "execution_count": 133,
   "id": "8b79335a-dea3-4b2e-ad4a-2bc91fe45423",
   "metadata": {},
   "outputs": [],
   "source": [
    "# Go through each sentence in the list, convert it to word tokens, apply Stopword, convert it to SnowballStemming\n",
    "\n",
    "for i in range(len(sentences)):\n",
    "    words = nltk.word_tokenize(sentences[i])\n",
    "    words = [snowballstemmer.stem(word) for word in words if word not in set(stopwords.words('english'))]\n",
    "    sentences[i] = ' '.join(words)"
   ]
  },
  {
   "cell_type": "code",
   "execution_count": 135,
   "id": "41ab26f7-14cd-4261-88c4-c2cffaecb4e6",
   "metadata": {},
   "outputs": [
    {
     "name": "stdout",
     "output_type": "stream",
     "text": [
      "['dear young friend india , stand today heart full hope mind brim dream great nation .', 'three vision india : freedom , develop , strength .', 'word , pillar upon must build futur .', 'first , freedom .', 'polit freedom , must strive freedom poverti , illiteraci , corrupt .', 'must protect hard-earn liberti , nurtur , build upon .', 'freedom right , respon .', 'must use freedom innov , creat , propel india forward .', 'second , develop .', \"'s time see develop nation , develop one .\", 'achiev much , often lack self-confid recogn .', 'scientist sent mission mar , profess sought worldwid , youth make breakthrough variou field .', 'let us shed inferior complex embrac potenti .', 'third , strength .', 'india must stand world , strength respect strength .', 'need strong militarili , econom , scientif , moral .', 'strength lie uniti , diver , indomit spirit .', 'rememb , young friend , excel continu process , accid .', 'come continu effort , plan , execut .', 'courag think differ , invent , travel unexplor path , discov imposs , conquer problem succeed .', 'great dream great dreamer alway transcend .', 'futur india .', 'ignit mind youth power resourc earth , earth , earth .', 'gener power transform nation .', 'dream alon enough .', 'need action .', 'ask countri , countri .', 'one potenti contribut nation-build .', 'whether becom scientist , teacher , entrepreneur , choo profess , work make differ .', 'conclus , want rememb : `` dream , dream , dream .', 'dream transform thought thought result action . ``', 'let thought action spark ignit fire progress nation .', 'may god bless great nation , india .', 'thank .']\n"
     ]
    }
   ],
   "source": [
    "print(sentences)"
   ]
  },
  {
   "cell_type": "code",
   "execution_count": 155,
   "id": "d36b3f19-760c-4981-845b-a68acc01ca60",
   "metadata": {},
   "outputs": [],
   "source": [
    "## Lemmatization\n",
    "\n",
    "from nltk.stem import WordNetLemmatizer\n",
    "lemmatizer = WordNetLemmatizer()"
   ]
  },
  {
   "cell_type": "code",
   "execution_count": 167,
   "id": "f108ee3f-bed9-4f52-8364-02383d10d6fd",
   "metadata": {},
   "outputs": [
    {
     "ename": "AttributeError",
     "evalue": "'list' object has no attribute 'tolower'",
     "output_type": "error",
     "traceback": [
      "\u001b[0;31m---------------------------------------------------------------------------\u001b[0m",
      "\u001b[0;31mAttributeError\u001b[0m                            Traceback (most recent call last)",
      "Cell \u001b[0;32mIn[167], line 2\u001b[0m\n\u001b[1;32m      1\u001b[0m \u001b[38;5;28;01mfor\u001b[39;00m i \u001b[38;5;129;01min\u001b[39;00m \u001b[38;5;28mrange\u001b[39m(\u001b[38;5;28mlen\u001b[39m(sentences)):\n\u001b[0;32m----> 2\u001b[0m     words \u001b[38;5;241m=\u001b[39m nltk\u001b[38;5;241m.\u001b[39mword_tokenize(sentences[i])\u001b[38;5;241m.\u001b[39mtolower()\n\u001b[1;32m      3\u001b[0m     words \u001b[38;5;241m=\u001b[39m [lemmatizer\u001b[38;5;241m.\u001b[39mlemmatize(word\u001b[38;5;241m.\u001b[39mlower(), pos \u001b[38;5;241m=\u001b[39m \u001b[38;5;124m'\u001b[39m\u001b[38;5;124mv\u001b[39m\u001b[38;5;124m'\u001b[39m) \u001b[38;5;28;01mfor\u001b[39;00m word \u001b[38;5;129;01min\u001b[39;00m words \u001b[38;5;28;01mif\u001b[39;00m word \u001b[38;5;129;01mnot\u001b[39;00m \u001b[38;5;129;01min\u001b[39;00m \u001b[38;5;28mset\u001b[39m(stopwords\u001b[38;5;241m.\u001b[39mwords(\u001b[38;5;124m'\u001b[39m\u001b[38;5;124menglish\u001b[39m\u001b[38;5;124m'\u001b[39m))]\n\u001b[1;32m      4\u001b[0m     sentences[i] \u001b[38;5;241m=\u001b[39m \u001b[38;5;124m'\u001b[39m\u001b[38;5;124m \u001b[39m\u001b[38;5;124m'\u001b[39m\u001b[38;5;241m.\u001b[39mjoin(words)\n",
      "\u001b[0;31mAttributeError\u001b[0m: 'list' object has no attribute 'tolower'"
     ]
    }
   ],
   "source": [
    "for i in range(len(sentences)):\n",
    "    words = nltk.word_tokenize(sentences[i]).tolower()\n",
    "    words = [lemmatizer.lemmatize(word.lower(), pos = 'v') for word in words if word not in set(stopwords.words('english'))]\n",
    "    sentences[i] = ' '.join(words)"
   ]
  },
  {
   "cell_type": "code",
   "execution_count": 163,
   "id": "e478883f-6046-4b3a-bdfd-05c09ad0c4ce",
   "metadata": {},
   "outputs": [
    {
     "data": {
      "text/plain": [
       "['My dear young friend India , I stand today heart full hope mind brim dream great nation .',\n",
       " 'I three vision India : Freedom , Development , Strength .',\n",
       " 'These word , pillar upon must build future .',\n",
       " 'First , freedom .',\n",
       " 'We political freedom , must strive freedom poverty , illiteracy , corruption .',\n",
       " 'We must protect hard-earned liberty , nurture , build upon .',\n",
       " 'Freedom right , responsibility .',\n",
       " 'We must use freedom innovate , create , propel India forward .',\n",
       " 'Second , development .',\n",
       " \"It 's time see develop nation , develop one .\",\n",
       " 'We achieve much , often lack self-confidence recognize .',\n",
       " 'Our scientist send mission Mars , IT professional seek worldwide , youth make breakthrough various field .',\n",
       " 'Let u shed inferiority complex embrace potential .',\n",
       " 'Third , strength .',\n",
       " 'India must stand world , strength respect strength .',\n",
       " 'We need strong militarily , economically , scientifically , morally .',\n",
       " 'Our strength lie unity , diversity , indomitable spirit .',\n",
       " 'Remember , young friend , excellence continuous process , accident .',\n",
       " 'It come continuous effort , plan , execution .',\n",
       " 'Have courage think differently , invent , travel unexplored path , discover impossible , conquer problem succeed .',\n",
       " 'Great dream great dreamer always transcend .',\n",
       " 'You future India .',\n",
       " 'The ignite mind youth powerful resource earth , earth , earth .',\n",
       " 'Your generation power transform nation .',\n",
       " 'But dream alone enough .',\n",
       " 'We need action .',\n",
       " 'Ask country , country .',\n",
       " 'Each one potential contribute nation-building .',\n",
       " 'Whether become scientist , teacher , entrepreneur , choose profession , work make difference .',\n",
       " 'In conclusion , I want remember : `` Dream , dream , dream .',\n",
       " 'Dreams transform think think result action . ``',\n",
       " 'Let think action spark ignite fire progress nation .',\n",
       " 'May God bless great nation , India .',\n",
       " 'Thank .']"
      ]
     },
     "execution_count": 163,
     "metadata": {},
     "output_type": "execute_result"
    }
   ],
   "source": [
    "sentences"
   ]
  },
  {
   "cell_type": "code",
   "execution_count": null,
   "id": "fe680104-7b8c-43bb-8268-b17278768bc2",
   "metadata": {},
   "outputs": [],
   "source": []
  }
 ],
 "metadata": {
  "kernelspec": {
   "display_name": "Python [conda env:base] *",
   "language": "python",
   "name": "conda-base-py"
  },
  "language_info": {
   "codemirror_mode": {
    "name": "ipython",
    "version": 3
   },
   "file_extension": ".py",
   "mimetype": "text/x-python",
   "name": "python",
   "nbconvert_exporter": "python",
   "pygments_lexer": "ipython3",
   "version": "3.12.7"
  }
 },
 "nbformat": 4,
 "nbformat_minor": 5
}
