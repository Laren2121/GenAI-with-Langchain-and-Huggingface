{
 "cells": [
  {
   "cell_type": "markdown",
   "id": "d5934761-c793-4abd-8c6f-860e8b668f37",
   "metadata": {},
   "source": [
    "### Name Entity Recognition"
   ]
  },
  {
   "cell_type": "code",
   "execution_count": 2,
   "id": "ce73999e-64bc-46b2-91ff-d27c477b853b",
   "metadata": {},
   "outputs": [
    {
     "data": {
      "text/plain": [
       "'\\nPerson Eg: Laren M D\\nPlace or Location Eg: canada\\nDate Eg: September, 24-09-1999\\nTime Eg: 4.30pm\\nMoney Eg: 1 million dollar\\nOrgaization Eg: laren MD Pvt Ltd\\nPercent Eg: 20%, twenty percent\\n'"
      ]
     },
     "execution_count": 2,
     "metadata": {},
     "output_type": "execute_result"
    }
   ],
   "source": [
    "sentence = \" The Effil Tower was build from 1887 to 1889 by French Engineer Gustave Eiffel, whose company specialized in building metal frameworks and structures.\" \n",
    "\n",
    "\"\"\"\n",
    "Person Eg: Laren M D\n",
    "Place or Location Eg: canada\n",
    "Date Eg: September, 24-09-1999\n",
    "Time Eg: 4.30pm\n",
    "Money Eg: 1 million dollar\n",
    "Orgaization Eg: laren MD Pvt Ltd\n",
    "Percent Eg: 20%, twenty percent\n",
    "\"\"\""
   ]
  },
  {
   "cell_type": "code",
   "execution_count": 3,
   "id": "c2f752c3-ddf9-4b5d-bae7-a8440295df63",
   "metadata": {},
   "outputs": [],
   "source": [
    "sentence = \" The Effil Tower was build from 1887 to 1889 by French Engineer Gustave Eiffel, whose company specialized in building metal frameworks and structures.\" "
   ]
  },
  {
   "cell_type": "code",
   "execution_count": 4,
   "id": "90d050f3-fa4a-49f6-84e4-01e07802ee8c",
   "metadata": {},
   "outputs": [],
   "source": [
    "import nltk\n",
    "words = nltk.word_tokenize(sentence)"
   ]
  },
  {
   "cell_type": "code",
   "execution_count": 6,
   "id": "e6a55776-0783-41cd-a7c6-fa693fdfe14c",
   "metadata": {},
   "outputs": [],
   "source": [
    "tag_element = nltk.pos_tag(words)"
   ]
  },
  {
   "cell_type": "code",
   "execution_count": 10,
   "id": "4f6ff040-9054-4625-84a0-c4639d9d1e73",
   "metadata": {},
   "outputs": [
    {
     "name": "stderr",
     "output_type": "stream",
     "text": [
      "[nltk_data] Downloading package maxent_ne_chunker_tab to\n",
      "[nltk_data]     /Users/larendcruz/nltk_data...\n",
      "[nltk_data]   Package maxent_ne_chunker_tab is already up-to-date!\n",
      "[nltk_data] Downloading package words to\n",
      "[nltk_data]     /Users/larendcruz/nltk_data...\n",
      "[nltk_data]   Package words is already up-to-date!\n"
     ]
    },
    {
     "data": {
      "text/plain": [
       "True"
      ]
     },
     "execution_count": 10,
     "metadata": {},
     "output_type": "execute_result"
    }
   ],
   "source": [
    "nltk.download('maxent_ne_chunker_tab')\n",
    "nltk.download('words')"
   ]
  },
  {
   "cell_type": "code",
   "execution_count": null,
   "id": "0c23deb8-1f2c-4664-8c4a-9753781e966b",
   "metadata": {},
   "outputs": [],
   "source": [
    "nltk.ne_chunk(tag_element).draw()"
   ]
  },
  {
   "cell_type": "code",
   "execution_count": null,
   "id": "8dc67a8e-06a2-4e0a-aead-aa3eae88a872",
   "metadata": {},
   "outputs": [],
   "source": []
  }
 ],
 "metadata": {
  "kernelspec": {
   "display_name": "Python 3 (ipykernel)",
   "language": "python",
   "name": "python3"
  },
  "language_info": {
   "codemirror_mode": {
    "name": "ipython",
    "version": 3
   },
   "file_extension": ".py",
   "mimetype": "text/x-python",
   "name": "python",
   "nbconvert_exporter": "python",
   "pygments_lexer": "ipython3",
   "version": "3.12.7"
  }
 },
 "nbformat": 4,
 "nbformat_minor": 5
}
