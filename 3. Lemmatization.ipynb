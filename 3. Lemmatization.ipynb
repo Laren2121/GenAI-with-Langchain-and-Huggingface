{
 "cells": [
  {
   "cell_type": "markdown",
   "id": "bb915806-bed5-4e46-aa24-5de8c54a4e05",
   "metadata": {},
   "source": [
    "### Wordnet Lemmatizer\n",
    "\n",
    "Lemmatization technique is like stemming. The output we will get after lemmatization is called 'lemma', which is a root word rather than root stem, the output of stemming. After lemmatization, we will be getting a valid word that means the same thing. \n",
    "\n",
    "NLTK provides WordNetLemmatizer class which is a thin wrapper around the wordnet corpus. This class uses morphy() function to the WordNet CorpusReader class to find a lemma. \n",
    "\n",
    "Uses \n",
    "* Q/A\n",
    "* Chatbot\n",
    "* Text summarization"
   ]
  },
  {
   "cell_type": "code",
   "execution_count": 12,
   "id": "e23c9953-f3fd-4034-b169-0f7c2d8ef766",
   "metadata": {},
   "outputs": [
    {
     "name": "stderr",
     "output_type": "stream",
     "text": [
      "[nltk_data] Downloading package wordnet to\n",
      "[nltk_data]     /Users/larendcruz/nltk_data...\n"
     ]
    }
   ],
   "source": [
    "import nltk\n",
    "nltk.download('wordnet')\n",
    "\n",
    "from nltk.stem import WordNetLemmatizer"
   ]
  },
  {
   "cell_type": "code",
   "execution_count": 13,
   "id": "c87e48d7-cac3-4b2b-8924-d95a3b9b021d",
   "metadata": {},
   "outputs": [],
   "source": [
    "lemmatizer = WordNetLemmatizer()"
   ]
  },
  {
   "cell_type": "code",
   "execution_count": 14,
   "id": "567099b1-2a6e-4917-93d7-6b83138e5362",
   "metadata": {},
   "outputs": [
    {
     "data": {
      "text/plain": [
       "'going'"
      ]
     },
     "execution_count": 14,
     "metadata": {},
     "output_type": "execute_result"
    }
   ],
   "source": [
    "lemmatizer.lemmatize(\"going\")"
   ]
  },
  {
   "cell_type": "code",
   "execution_count": 24,
   "id": "5ba34a0d-6f29-4f0e-ac85-38e0b750bd47",
   "metadata": {},
   "outputs": [
    {
     "data": {
      "text/plain": [
       "'go'"
      ]
     },
     "execution_count": 24,
     "metadata": {},
     "output_type": "execute_result"
    }
   ],
   "source": [
    "'''\n",
    "POS- Noun - n\n",
    "verb - v\n",
    "adjective - a\n",
    "adverb - r\n",
    "'''\n",
    "\n",
    "lemmatizer.lemmatize(\"going\", pos='v')"
   ]
  },
  {
   "cell_type": "code",
   "execution_count": 27,
   "id": "555615b2-01b8-4c1e-9dc1-622694bcc9e5",
   "metadata": {},
   "outputs": [],
   "source": [
    "words = [\"eating\", \"eat\", \"eaten\", \"write\", \"writing\", \"programming\", \"program\", \"history\", \"finally\"]"
   ]
  },
  {
   "cell_type": "code",
   "execution_count": 38,
   "id": "ae4b75bf-977c-408f-ae99-f2083fd942f9",
   "metadata": {},
   "outputs": [
    {
     "name": "stdout",
     "output_type": "stream",
     "text": [
      "eating ----> eating\n",
      "eat ----> eat\n",
      "eaten ----> eaten\n",
      "write ----> write\n",
      "writing ----> writing\n",
      "programming ----> programming\n",
      "program ----> program\n",
      "history ----> history\n",
      "finally ----> finally\n"
     ]
    }
   ],
   "source": [
    "for word in words:\n",
    "        print(word + \" ----> \" + lemmatizer.lemmatize(word, pos = 'n'))"
   ]
  },
  {
   "cell_type": "code",
   "execution_count": 40,
   "id": "a155feeb-6d4a-4010-aea8-3444e53246e2",
   "metadata": {},
   "outputs": [
    {
     "data": {
      "text/plain": [
       "('fairly', 'sportingly')"
      ]
     },
     "execution_count": 40,
     "metadata": {},
     "output_type": "execute_result"
    }
   ],
   "source": [
    "lemmatizer.lemmatize(\"fairly\", pos = 'v'), lemmatizer.lemmatize(\"sportingly\", pos = 'v')"
   ]
  }
 ],
 "metadata": {
  "kernelspec": {
   "display_name": "Python 3 (ipykernel)",
   "language": "python",
   "name": "python3"
  },
  "language_info": {
   "codemirror_mode": {
    "name": "ipython",
    "version": 3
   },
   "file_extension": ".py",
   "mimetype": "text/x-python",
   "name": "python",
   "nbconvert_exporter": "python",
   "pygments_lexer": "ipython3",
   "version": "3.12.7"
  }
 },
 "nbformat": 4,
 "nbformat_minor": 5
}
