{
 "cells": [
  {
   "cell_type": "markdown",
   "id": "5b78e36c-d49e-4e50-8ff4-a78a41bd39c0",
   "metadata": {},
   "source": [
    "### Stemming\n",
    "\n",
    "Stemming is the process of reducing a word to it's word stem that affixes to suffixes and prefixes or to the roots of words known as a lemma. Stemming is important in natural language understanding (NLU) and natural language processing (NLP). "
   ]
  },
  {
   "cell_type": "code",
   "execution_count": 14,
   "id": "e45f5959-48ff-47d7-88b9-3e89c4470836",
   "metadata": {},
   "outputs": [],
   "source": [
    "## Classification problem\n",
    "## Comments of product is a positive review or negative review\n",
    "## Reviews -----> eating, eat, eaten (eat) \n",
    "\n",
    "words = [\"eating\", \"eat\", \"eaten\", \"write\", \"writing\", \"programming\", \"program\", \"history\", \"finally\"]"
   ]
  },
  {
   "cell_type": "markdown",
   "id": "65010e59-4df6-44f2-864f-57578e3e6188",
   "metadata": {},
   "source": [
    "### PorterStemmer"
   ]
  },
  {
   "cell_type": "code",
   "execution_count": 17,
   "id": "2a5363ca-5631-4423-96bd-e3964a2ff977",
   "metadata": {},
   "outputs": [],
   "source": [
    "from nltk.stem import PorterStemmer"
   ]
  },
  {
   "cell_type": "code",
   "execution_count": 19,
   "id": "65c983bb-b74e-4460-93ee-4758bacdc58d",
   "metadata": {},
   "outputs": [],
   "source": [
    "stemming = PorterStemmer()"
   ]
  },
  {
   "cell_type": "code",
   "execution_count": 23,
   "id": "b75d67ba-3b4e-4f5c-94e5-250a605ffc95",
   "metadata": {},
   "outputs": [
    {
     "name": "stdout",
     "output_type": "stream",
     "text": [
      "eating ----> eat\n",
      "eat ----> eat\n",
      "eaten ----> eaten\n",
      "write ----> write\n",
      "writing ----> write\n",
      "programming ----> program\n",
      "program ----> program\n",
      "history ----> histori\n",
      "finally ----> final\n"
     ]
    }
   ],
   "source": [
    "for word in words: \n",
    "    print(word + \" ----> \" + stemming.stem(word))"
   ]
  },
  {
   "cell_type": "code",
   "execution_count": 29,
   "id": "210ecacb-c008-4bf5-bbc7-8baf00c1216b",
   "metadata": {},
   "outputs": [
    {
     "data": {
      "text/plain": [
       "'sit'"
      ]
     },
     "execution_count": 29,
     "metadata": {},
     "output_type": "execute_result"
    }
   ],
   "source": [
    "stemming.stem(\"congratulations\") ##bad answer\n",
    "stemming.stem(\"sitting\") ##good answer"
   ]
  },
  {
   "cell_type": "markdown",
   "id": "0554a7d4-0773-4b07-be8c-be83a42f0fa5",
   "metadata": {},
   "source": [
    "### RegexStemmer class\n",
    "NLTK has RegexpStemmer class with the help of which we can easily implement Regular expression stemmer algorithms. It basically takes a single regular expression and removes any prefix or suffix that matches the expression. "
   ]
  },
  {
   "cell_type": "code",
   "execution_count": 34,
   "id": "58dc59c2-c32f-4b85-88f0-34fd12b570f9",
   "metadata": {},
   "outputs": [],
   "source": [
    "from nltk.stem import RegexpStemmer"
   ]
  },
  {
   "cell_type": "code",
   "execution_count": 67,
   "id": "41429263-555b-4c39-96a2-d3f9edf31d2c",
   "metadata": {},
   "outputs": [],
   "source": [
    "reg_stemmer = RegexpStemmer('ing|s$|e$|able$', min=4)"
   ]
  },
  {
   "cell_type": "code",
   "execution_count": 69,
   "id": "60340965-43a8-447e-b32f-58e620fa0aec",
   "metadata": {},
   "outputs": [
    {
     "data": {
      "text/plain": [
       "'eat'"
      ]
     },
     "execution_count": 69,
     "metadata": {},
     "output_type": "execute_result"
    }
   ],
   "source": [
    "reg_stemmer.stem('eating')"
   ]
  },
  {
   "cell_type": "code",
   "execution_count": 71,
   "id": "5d87a8cc-2107-4ed2-8b87-b37774e748f9",
   "metadata": {},
   "outputs": [
    {
     "data": {
      "text/plain": [
       "'eat'"
      ]
     },
     "execution_count": 71,
     "metadata": {},
     "output_type": "execute_result"
    }
   ],
   "source": [
    "reg_stemmer.stem('ingeating')"
   ]
  },
  {
   "cell_type": "markdown",
   "id": "4d668842-b0e0-498a-91cf-9c36fdf1c57a",
   "metadata": {},
   "source": [
    "### Snowball Stemmer\n",
    "\n",
    "* Performs better than PorterStemmer\n",
    "* Better accuracy"
   ]
  },
  {
   "cell_type": "code",
   "execution_count": 75,
   "id": "59aa6f3d-2333-4dd5-bec4-c695e9adc3d8",
   "metadata": {},
   "outputs": [],
   "source": [
    "from nltk.stem import SnowballStemmer"
   ]
  },
  {
   "cell_type": "code",
   "execution_count": 81,
   "id": "f68cb48f-6bb6-47bd-8967-b11a368aa212",
   "metadata": {},
   "outputs": [],
   "source": [
    "snowballstemmer = SnowballStemmer(\"english\")"
   ]
  },
  {
   "cell_type": "code",
   "execution_count": 85,
   "id": "ba8662c5-007c-437f-9887-d99893789dac",
   "metadata": {},
   "outputs": [
    {
     "name": "stdout",
     "output_type": "stream",
     "text": [
      "eating ----> eat\n",
      "eat ----> eat\n",
      "eaten ----> eaten\n",
      "write ----> write\n",
      "writing ----> write\n",
      "programming ----> program\n",
      "program ----> program\n",
      "history ----> histori\n",
      "finally ----> final\n"
     ]
    }
   ],
   "source": [
    "for word in words:\n",
    "    print(word + \" ----> \" + snowballstemmer.stem(word))"
   ]
  },
  {
   "cell_type": "code",
   "execution_count": 87,
   "id": "94140a23-e0ee-4aef-8b01-f51292a46462",
   "metadata": {},
   "outputs": [
    {
     "data": {
      "text/plain": [
       "('fairli', 'sportingli')"
      ]
     },
     "execution_count": 87,
     "metadata": {},
     "output_type": "execute_result"
    }
   ],
   "source": [
    "stemming.stem(\"fairly\"), stemming.stem(\"sportingly\")"
   ]
  },
  {
   "cell_type": "code",
   "execution_count": 89,
   "id": "386894b0-f0ae-4afb-a6df-2c9c9ae20014",
   "metadata": {},
   "outputs": [
    {
     "data": {
      "text/plain": [
       "('fair', 'sport')"
      ]
     },
     "execution_count": 89,
     "metadata": {},
     "output_type": "execute_result"
    }
   ],
   "source": [
    "snowballstemmer.stem(\"fairly\"), snowballstemmer.stem(\"sportingly\")"
   ]
  }
 ],
 "metadata": {
  "kernelspec": {
   "display_name": "Python 3 (ipykernel)",
   "language": "python",
   "name": "python3"
  },
  "language_info": {
   "codemirror_mode": {
    "name": "ipython",
    "version": 3
   },
   "file_extension": ".py",
   "mimetype": "text/x-python",
   "name": "python",
   "nbconvert_exporter": "python",
   "pygments_lexer": "ipython3",
   "version": "3.12.7"
  }
 },
 "nbformat": 4,
 "nbformat_minor": 5
}
