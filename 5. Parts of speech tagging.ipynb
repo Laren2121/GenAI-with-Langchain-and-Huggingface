{
 "cells": [
  {
   "cell_type": "code",
   "execution_count": 2,
   "id": "adae30b4-c6ea-424e-af87-dd9a95cdf6ae",
   "metadata": {},
   "outputs": [],
   "source": [
    "paragraph = \"\"\"\n",
    "My dear young friends of India,\n",
    "I stand before you today with a heart full of hope and a mind brimming with dreams for our great nation. I have three visions for India: Freedom, Development, and Strength. These are not just words, but the pillars upon which we must build our future.\n",
    "First, freedom. We have won our political freedom, but now we must strive for freedom from poverty, illiteracy, and corruption. We must protect our hard-earned liberty, nurture it, and build upon it. Freedom is not just a right, but a responsibility. We must use our freedom to innovate, to create, and to propel India forward.\n",
    "Second, development. It's time we see ourselves as a developed nation, not just a developing one. We have achieved much, but we often lack the self-confidence to recognize it. Our scientists have sent missions to Mars, our IT professionals are sought after worldwide, and our youth are making breakthroughs in various fields. Let us shed our inferiority complex and embrace our potential.\n",
    "Third, strength. India must stand up to the world, for only strength respects strength. We need to be strong not just militarily, but economically, scientifically, and morally. Our strength lies in our unity, our diversity, and our indomitable spirit.\n",
    "Remember, my young friends, that excellence is a continuous process, not an accident. It comes with continuous effort, planning, and execution. Have the courage to think differently, to invent, to travel the unexplored path, to discover the impossible, and to conquer the problems and succeed.\n",
    "Great dreams of great dreamers are always transcended. You are the future of India. The ignited mind of the youth is the most powerful resource on the earth, above the earth, and under the earth. Your generation has the power to transform our nation.\n",
    "But dreams alone are not enough. We need action. Ask not what your country can do for you, but what you can do for your country. Each one of you has the potential to contribute to nation-building. Whether you become a scientist, a teacher, an entrepreneur, or choose any other profession, your work can make a difference.\n",
    "In conclusion, I want you to remember this: \"Dream, dream, dream. Dreams transform into thoughts and thoughts result in action.\" Let your thoughts and actions be the spark that ignites the fire of progress in our nation.\n",
    "May God bless you and our great nation, India. Thank you.\n",
    "\"\"\""
   ]
  },
  {
   "cell_type": "code",
   "execution_count": 30,
   "id": "0b2b4ee4-81a9-457d-aeb3-11cb27b86b59",
   "metadata": {},
   "outputs": [
    {
     "name": "stderr",
     "output_type": "stream",
     "text": [
      "[nltk_data] Downloading package averaged_perceptron_tagger_eng to\n",
      "[nltk_data]     /Users/larendcruz/nltk_data...\n",
      "[nltk_data]   Package averaged_perceptron_tagger_eng is already up-to-\n",
      "[nltk_data]       date!\n"
     ]
    }
   ],
   "source": [
    "import nltk\n",
    "from nltk.corpus import stopwords\n",
    "\n",
    "nltk.download('averaged_perceptron_tagger_eng')\n",
    "\n",
    "sentences = nltk.sent_tokenize(paragraph)"
   ]
  },
  {
   "cell_type": "code",
   "execution_count": 17,
   "id": "5693da7a-4a4d-475a-9d51-63d40fbc5141",
   "metadata": {},
   "outputs": [
    {
     "data": {
      "text/plain": [
       "['\\nMy dear young friends of India,\\nI stand before you today with a heart full of hope and a mind brimming with dreams for our great nation.',\n",
       " 'I have three visions for India: Freedom, Development, and Strength.',\n",
       " 'These are not just words, but the pillars upon which we must build our future.',\n",
       " 'First, freedom.',\n",
       " 'We have won our political freedom, but now we must strive for freedom from poverty, illiteracy, and corruption.',\n",
       " 'We must protect our hard-earned liberty, nurture it, and build upon it.',\n",
       " 'Freedom is not just a right, but a responsibility.',\n",
       " 'We must use our freedom to innovate, to create, and to propel India forward.',\n",
       " 'Second, development.',\n",
       " \"It's time we see ourselves as a developed nation, not just a developing one.\",\n",
       " 'We have achieved much, but we often lack the self-confidence to recognize it.',\n",
       " 'Our scientists have sent missions to Mars, our IT professionals are sought after worldwide, and our youth are making breakthroughs in various fields.',\n",
       " 'Let us shed our inferiority complex and embrace our potential.',\n",
       " 'Third, strength.',\n",
       " 'India must stand up to the world, for only strength respects strength.',\n",
       " 'We need to be strong not just militarily, but economically, scientifically, and morally.',\n",
       " 'Our strength lies in our unity, our diversity, and our indomitable spirit.',\n",
       " 'Remember, my young friends, that excellence is a continuous process, not an accident.',\n",
       " 'It comes with continuous effort, planning, and execution.',\n",
       " 'Have the courage to think differently, to invent, to travel the unexplored path, to discover the impossible, and to conquer the problems and succeed.',\n",
       " 'Great dreams of great dreamers are always transcended.',\n",
       " 'You are the future of India.',\n",
       " 'The ignited mind of the youth is the most powerful resource on the earth, above the earth, and under the earth.',\n",
       " 'Your generation has the power to transform our nation.',\n",
       " 'But dreams alone are not enough.',\n",
       " 'We need action.',\n",
       " 'Ask not what your country can do for you, but what you can do for your country.',\n",
       " 'Each one of you has the potential to contribute to nation-building.',\n",
       " 'Whether you become a scientist, a teacher, an entrepreneur, or choose any other profession, your work can make a difference.',\n",
       " 'In conclusion, I want you to remember this: \"Dream, dream, dream.',\n",
       " 'Dreams transform into thoughts and thoughts result in action.\"',\n",
       " 'Let your thoughts and actions be the spark that ignites the fire of progress in our nation.',\n",
       " 'May God bless you and our great nation, India.',\n",
       " 'Thank you.']"
      ]
     },
     "execution_count": 17,
     "metadata": {},
     "output_type": "execute_result"
    }
   ],
   "source": [
    "sentences"
   ]
  },
  {
   "cell_type": "code",
   "execution_count": 18,
   "id": "0683e46f-e7e5-42c4-a13e-8e335f1a2b33",
   "metadata": {
    "scrolled": true
   },
   "outputs": [
    {
     "name": "stdout",
     "output_type": "stream",
     "text": [
      "[('My', 'PRP$'), ('dear', 'JJ'), ('young', 'JJ'), ('friends', 'NNS'), ('India', 'NNP'), (',', ','), ('I', 'PRP'), ('stand', 'VBP'), ('today', 'NN'), ('heart', 'NN'), ('full', 'JJ'), ('hope', 'NN'), ('mind', 'IN'), ('brimming', 'VBG'), ('dreams', 'JJ'), ('great', 'JJ'), ('nation', 'NN'), ('.', '.')]\n",
      "[('I', 'PRP'), ('three', 'CD'), ('visions', 'NNS'), ('India', 'NNP'), (':', ':'), ('Freedom', 'NN'), (',', ','), ('Development', 'NNP'), (',', ','), ('Strength', 'NNP'), ('.', '.')]\n",
      "[('These', 'DT'), ('words', 'NNS'), (',', ','), ('pillars', 'NNS'), ('upon', 'IN'), ('must', 'MD'), ('build', 'VB'), ('future', 'NN'), ('.', '.')]\n",
      "[('First', 'RB'), (',', ','), ('freedom', 'NN'), ('.', '.')]\n",
      "[('We', 'PRP'), ('political', 'JJ'), ('freedom', 'NN'), (',', ','), ('must', 'MD'), ('strive', 'VB'), ('freedom', 'NN'), ('poverty', 'NN'), (',', ','), ('illiteracy', 'NN'), (',', ','), ('corruption', 'NN'), ('.', '.')]\n",
      "[('We', 'PRP'), ('must', 'MD'), ('protect', 'VB'), ('hard-earned', 'JJ'), ('liberty', 'NN'), (',', ','), ('nurture', 'NN'), (',', ','), ('build', 'VB'), ('upon', 'NN'), ('.', '.')]\n",
      "[('Freedom', 'NNP'), ('right', 'NN'), (',', ','), ('responsibility', 'NN'), ('.', '.')]\n",
      "[('We', 'PRP'), ('must', 'MD'), ('use', 'VB'), ('freedom', 'NN'), ('innovate', 'NN'), (',', ','), ('create', 'NN'), (',', ','), ('propel', 'VB'), ('India', 'NNP'), ('forward', 'NN'), ('.', '.')]\n",
      "[('Second', 'JJ'), (',', ','), ('development', 'NN'), ('.', '.')]\n",
      "[('It', 'PRP'), (\"'s\", 'VBZ'), ('time', 'NN'), ('see', 'VB'), ('developed', 'JJ'), ('nation', 'NN'), (',', ','), ('developing', 'VBG'), ('one', 'CD'), ('.', '.')]\n",
      "[('We', 'PRP'), ('achieved', 'VBD'), ('much', 'RB'), (',', ','), ('often', 'RB'), ('lack', 'JJ'), ('self-confidence', 'JJ'), ('recognize', 'NN'), ('.', '.')]\n",
      "[('Our', 'PRP$'), ('scientists', 'NNS'), ('sent', 'VBD'), ('missions', 'NNS'), ('Mars', 'NNP'), (',', ','), ('IT', 'NNP'), ('professionals', 'VBZ'), ('sought', 'VBN'), ('worldwide', 'NN'), (',', ','), ('youth', 'NN'), ('making', 'VBG'), ('breakthroughs', 'NNS'), ('various', 'JJ'), ('fields', 'NNS'), ('.', '.')]\n",
      "[('Let', 'VB'), ('us', 'PRP'), ('shed', 'VB'), ('inferiority', 'NN'), ('complex', 'JJ'), ('embrace', 'NN'), ('potential', 'NN'), ('.', '.')]\n",
      "[('Third', 'NNP'), (',', ','), ('strength', 'NN'), ('.', '.')]\n",
      "[('India', 'NNP'), ('must', 'MD'), ('stand', 'VB'), ('world', 'NN'), (',', ','), ('strength', 'NN'), ('respects', 'NNS'), ('strength', 'NN'), ('.', '.')]\n",
      "[('We', 'PRP'), ('need', 'VBP'), ('strong', 'JJ'), ('militarily', 'RB'), (',', ','), ('economically', 'RB'), (',', ','), ('scientifically', 'RB'), (',', ','), ('morally', 'RB'), ('.', '.')]\n",
      "[('Our', 'PRP$'), ('strength', 'NN'), ('lies', 'VBZ'), ('unity', 'NN'), (',', ','), ('diversity', 'NN'), (',', ','), ('indomitable', 'JJ'), ('spirit', 'NN'), ('.', '.')]\n",
      "[('Remember', 'NNP'), (',', ','), ('young', 'JJ'), ('friends', 'NNS'), (',', ','), ('excellence', 'RB'), ('continuous', 'JJ'), ('process', 'NN'), (',', ','), ('accident', 'NN'), ('.', '.')]\n",
      "[('It', 'PRP'), ('comes', 'VBZ'), ('continuous', 'JJ'), ('effort', 'NN'), (',', ','), ('planning', 'NN'), (',', ','), ('execution', 'NN'), ('.', '.')]\n",
      "[('Have', 'VBP'), ('courage', 'NN'), ('think', 'VBP'), ('differently', 'RB'), (',', ','), ('invent', 'NN'), (',', ','), ('travel', 'NN'), ('unexplored', 'JJ'), ('path', 'NN'), (',', ','), ('discover', 'NN'), ('impossible', 'JJ'), (',', ','), ('conquer', 'VB'), ('problems', 'NNS'), ('succeed', 'VB'), ('.', '.')]\n",
      "[('Great', 'JJ'), ('dreams', 'VBZ'), ('great', 'JJ'), ('dreamers', 'NNS'), ('always', 'RB'), ('transcended', 'VBD'), ('.', '.')]\n",
      "[('You', 'PRP'), ('future', 'VBP'), ('India', 'NNP'), ('.', '.')]\n",
      "[('The', 'DT'), ('ignited', 'JJ'), ('mind', 'NN'), ('youth', 'NN'), ('powerful', 'JJ'), ('resource', 'NN'), ('earth', 'NN'), (',', ','), ('earth', 'NN'), (',', ','), ('earth', 'NN'), ('.', '.')]\n",
      "[('Your', 'PRP$'), ('generation', 'NN'), ('power', 'NN'), ('transform', 'NN'), ('nation', 'NN'), ('.', '.')]\n",
      "[('But', 'CC'), ('dreams', 'VBZ'), ('alone', 'RB'), ('enough', 'RB'), ('.', '.')]\n",
      "[('We', 'PRP'), ('need', 'VBP'), ('action', 'NN'), ('.', '.')]\n",
      "[('Ask', 'NNP'), ('country', 'NN'), (',', ','), ('country', 'NN'), ('.', '.')]\n",
      "[('Each', 'DT'), ('one', 'CD'), ('potential', 'JJ'), ('contribute', 'NN'), ('nation-building', 'NN'), ('.', '.')]\n",
      "[('Whether', 'NNP'), ('become', 'NN'), ('scientist', 'NN'), (',', ','), ('teacher', 'NN'), (',', ','), ('entrepreneur', 'NN'), (',', ','), ('choose', 'JJ'), ('profession', 'NN'), (',', ','), ('work', 'NN'), ('make', 'NN'), ('difference', 'NN'), ('.', '.')]\n",
      "[('In', 'IN'), ('conclusion', 'NN'), (',', ','), ('I', 'PRP'), ('want', 'VBP'), ('remember', 'VB'), (':', ':'), ('``', '``'), ('Dream', 'NN'), (',', ','), ('dream', 'NN'), (',', ','), ('dream', 'NN'), ('.', '.')]\n",
      "[('Dreams', 'NNP'), ('transform', 'NN'), ('thoughts', 'NNS'), ('thoughts', 'NNS'), ('result', 'VBP'), ('action', 'NN'), ('.', '.'), (\"''\", \"''\")]\n",
      "[('Let', 'VB'), ('thoughts', 'NNS'), ('actions', 'NNS'), ('spark', 'VBP'), ('ignites', 'NNS'), ('fire', 'VBP'), ('progress', 'NN'), ('nation', 'NN'), ('.', '.')]\n",
      "[('May', 'NNP'), ('God', 'NNP'), ('bless', 'NN'), ('great', 'JJ'), ('nation', 'NN'), (',', ','), ('India', 'NNP'), ('.', '.')]\n",
      "[('Thank', 'NNP'), ('.', '.')]\n"
     ]
    }
   ],
   "source": [
    "## Find out the POS tag\n",
    "\n",
    "for i in range(len(sentences)):\n",
    "    words = nltk.word_tokenize(sentence[i])\n",
    "    words = [ word for word in words if word not in set(stopwords.words('english'))]\n",
    "    pos_tag = nltk.pos_tag(words)\n",
    "    print(pos_tag)"
   ]
  },
  {
   "cell_type": "code",
   "execution_count": 69,
   "id": "88659cff-4839-4176-ab32-e36cb190b3f0",
   "metadata": {},
   "outputs": [
    {
     "name": "stdout",
     "output_type": "stream",
     "text": [
      "[[('Taj', 'NNP'), ('Mahal', 'NNP'), ('is', 'VBZ'), ('a', 'DT'), ('beautiful', 'JJ'), ('Monument', 'NN')]]\n"
     ]
    }
   ],
   "source": [
    "text = \"Taj Mahal is a beautiful Monument\"\n",
    "tokens = nltk.word_tokenize(text)\n",
    "\n",
    "sentence = [tokens]\n",
    "pos_tag_sents = nltk.pos_tag_sents(sentence)\n",
    "print(pos_tag_sents)"
   ]
  },
  {
   "cell_type": "code",
   "execution_count": 73,
   "id": "0162199a-764f-48f5-8f5c-cbfb5d9b939c",
   "metadata": {},
   "outputs": [
    {
     "name": "stdout",
     "output_type": "stream",
     "text": [
      "[('Taj', 'NN')]\n",
      "[('Mahal', 'NN')]\n",
      "[('is', 'VBZ')]\n",
      "[('a', 'DT')]\n",
      "[('beautiful', 'NN')]\n",
      "[('Monument', 'NN')]\n"
     ]
    },
    {
     "name": "stderr",
     "output_type": "stream",
     "text": [
      "[nltk_data] Downloading package averaged_perceptron_tagger to\n",
      "[nltk_data]     /Users/larendcruz/nltk_data...\n",
      "[nltk_data]   Package averaged_perceptron_tagger is already up-to-\n",
      "[nltk_data]       date!\n"
     ]
    }
   ],
   "source": [
    "nltk.download('averaged_perceptron_tagger')\n",
    "\n",
    "for word in text.split(): \n",
    "    print(nltk.pos_tag([word]))"
   ]
  },
  {
   "cell_type": "code",
   "execution_count": 77,
   "id": "22c653fb-8ff6-482b-a093-5f8717124929",
   "metadata": {},
   "outputs": [
    {
     "name": "stdout",
     "output_type": "stream",
     "text": [
      "[('Taj', 'NNP'), ('Mahal', 'NNP'), ('is', 'VBZ'), ('a', 'DT'), ('beautiful', 'JJ'), ('Monument', 'NN')]\n"
     ]
    }
   ],
   "source": [
    "print(nltk.pos_tag(text.split()))"
   ]
  }
 ],
 "metadata": {
  "kernelspec": {
   "display_name": "Python [conda env:base] *",
   "language": "python",
   "name": "conda-base-py"
  },
  "language_info": {
   "codemirror_mode": {
    "name": "ipython",
    "version": 3
   },
   "file_extension": ".py",
   "mimetype": "text/x-python",
   "name": "python",
   "nbconvert_exporter": "python",
   "pygments_lexer": "ipython3",
   "version": "3.12.7"
  }
 },
 "nbformat": 4,
 "nbformat_minor": 5
}
