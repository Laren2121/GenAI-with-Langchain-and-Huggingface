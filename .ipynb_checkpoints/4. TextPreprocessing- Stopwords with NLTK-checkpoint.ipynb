{
 "cells": [
  {
   "cell_type": "code",
   "execution_count": 1,
   "id": "c4c7d89b-3319-40fd-a4b8-38e1709c76e0",
   "metadata": {},
   "outputs": [],
   "source": [
    "paragraph = \"\"\"\n",
    "My dear young friends of India,\n",
    "I stand before you today with a heart full of hope and a mind brimming with dreams for our great nation. I have three visions for India: Freedom, Development, and Strength. These are not just words, but the pillars upon which we must build our future.\n",
    "First, freedom. We have won our political freedom, but now we must strive for freedom from poverty, illiteracy, and corruption. We must protect our hard-earned liberty, nurture it, and build upon it. Freedom is not just a right, but a responsibility. We must use our freedom to innovate, to create, and to propel India forward.\n",
    "Second, development. It's time we see ourselves as a developed nation, not just a developing one. We have achieved much, but we often lack the self-confidence to recognize it. Our scientists have sent missions to Mars, our IT professionals are sought after worldwide, and our youth are making breakthroughs in various fields. Let us shed our inferiority complex and embrace our potential.\n",
    "Third, strength. India must stand up to the world, for only strength respects strength. We need to be strong not just militarily, but economically, scientifically, and morally. Our strength lies in our unity, our diversity, and our indomitable spirit.\n",
    "Remember, my young friends, that excellence is a continuous process, not an accident. It comes with continuous effort, planning, and execution. Have the courage to think differently, to invent, to travel the unexplored path, to discover the impossible, and to conquer the problems and succeed.\n",
    "Great dreams of great dreamers are always transcended. You are the future of India. The ignited mind of the youth is the most powerful resource on the earth, above the earth, and under the earth. Your generation has the power to transform our nation.\n",
    "But dreams alone are not enough. We need action. Ask not what your country can do for you, but what you can do for your country. Each one of you has the potential to contribute to nation-building. Whether you become a scientist, a teacher, an entrepreneur, or choose any other profession, your work can make a difference.\n",
    "In conclusion, I want you to remember this: \"Dream, dream, dream. Dreams transform into thoughts and thoughts result in action.\" Let your thoughts and actions be the spark that ignites the fire of progress in our nation.\n",
    "May God bless you and our great nation, India. Thank you.\n",
    "\"\"\""
   ]
  },
  {
   "cell_type": "code",
   "execution_count": 3,
   "id": "c4093298-9f3b-4add-ab39-13d6bd0c6da7",
   "metadata": {},
   "outputs": [],
   "source": [
    "from nltk.stem import PorterStemmer"
   ]
  },
  {
   "cell_type": "code",
   "execution_count": 5,
   "id": "afe74847-91fa-418b-90ab-666a1d38b829",
   "metadata": {},
   "outputs": [],
   "source": [
    "from nltk.corpus import stopwords"
   ]
  },
  {
   "cell_type": "code",
   "execution_count": 7,
   "id": "f9687574-5710-4c18-a4fa-93bc11d48eca",
   "metadata": {},
   "outputs": [
    {
     "name": "stderr",
     "output_type": "stream",
     "text": [
      "[nltk_data] Downloading package stopwords to\n",
      "[nltk_data]     /Users/larendcruz/nltk_data...\n",
      "[nltk_data]   Unzipping corpora/stopwords.zip.\n"
     ]
    },
    {
     "data": {
      "text/plain": [
       "True"
      ]
     },
     "execution_count": 7,
     "metadata": {},
     "output_type": "execute_result"
    }
   ],
   "source": [
    "import nltk\n",
    "nltk.download('stopwords')"
   ]
  },
  {
   "cell_type": "code",
   "execution_count": 9,
   "id": "68272d96-bb95-471f-a105-1fec88b206d8",
   "metadata": {
    "scrolled": true
   },
   "outputs": [
    {
     "data": {
      "text/plain": [
       "['i',\n",
       " 'me',\n",
       " 'my',\n",
       " 'myself',\n",
       " 'we',\n",
       " 'our',\n",
       " 'ours',\n",
       " 'ourselves',\n",
       " 'you',\n",
       " \"you're\",\n",
       " \"you've\",\n",
       " \"you'll\",\n",
       " \"you'd\",\n",
       " 'your',\n",
       " 'yours',\n",
       " 'yourself',\n",
       " 'yourselves',\n",
       " 'he',\n",
       " 'him',\n",
       " 'his',\n",
       " 'himself',\n",
       " 'she',\n",
       " \"she's\",\n",
       " 'her',\n",
       " 'hers',\n",
       " 'herself',\n",
       " 'it',\n",
       " \"it's\",\n",
       " 'its',\n",
       " 'itself',\n",
       " 'they',\n",
       " 'them',\n",
       " 'their',\n",
       " 'theirs',\n",
       " 'themselves',\n",
       " 'what',\n",
       " 'which',\n",
       " 'who',\n",
       " 'whom',\n",
       " 'this',\n",
       " 'that',\n",
       " \"that'll\",\n",
       " 'these',\n",
       " 'those',\n",
       " 'am',\n",
       " 'is',\n",
       " 'are',\n",
       " 'was',\n",
       " 'were',\n",
       " 'be',\n",
       " 'been',\n",
       " 'being',\n",
       " 'have',\n",
       " 'has',\n",
       " 'had',\n",
       " 'having',\n",
       " 'do',\n",
       " 'does',\n",
       " 'did',\n",
       " 'doing',\n",
       " 'a',\n",
       " 'an',\n",
       " 'the',\n",
       " 'and',\n",
       " 'but',\n",
       " 'if',\n",
       " 'or',\n",
       " 'because',\n",
       " 'as',\n",
       " 'until',\n",
       " 'while',\n",
       " 'of',\n",
       " 'at',\n",
       " 'by',\n",
       " 'for',\n",
       " 'with',\n",
       " 'about',\n",
       " 'against',\n",
       " 'between',\n",
       " 'into',\n",
       " 'through',\n",
       " 'during',\n",
       " 'before',\n",
       " 'after',\n",
       " 'above',\n",
       " 'below',\n",
       " 'to',\n",
       " 'from',\n",
       " 'up',\n",
       " 'down',\n",
       " 'in',\n",
       " 'out',\n",
       " 'on',\n",
       " 'off',\n",
       " 'over',\n",
       " 'under',\n",
       " 'again',\n",
       " 'further',\n",
       " 'then',\n",
       " 'once',\n",
       " 'here',\n",
       " 'there',\n",
       " 'when',\n",
       " 'where',\n",
       " 'why',\n",
       " 'how',\n",
       " 'all',\n",
       " 'any',\n",
       " 'both',\n",
       " 'each',\n",
       " 'few',\n",
       " 'more',\n",
       " 'most',\n",
       " 'other',\n",
       " 'some',\n",
       " 'such',\n",
       " 'no',\n",
       " 'nor',\n",
       " 'not',\n",
       " 'only',\n",
       " 'own',\n",
       " 'same',\n",
       " 'so',\n",
       " 'than',\n",
       " 'too',\n",
       " 'very',\n",
       " 's',\n",
       " 't',\n",
       " 'can',\n",
       " 'will',\n",
       " 'just',\n",
       " 'don',\n",
       " \"don't\",\n",
       " 'should',\n",
       " \"should've\",\n",
       " 'now',\n",
       " 'd',\n",
       " 'll',\n",
       " 'm',\n",
       " 'o',\n",
       " 're',\n",
       " 've',\n",
       " 'y',\n",
       " 'ain',\n",
       " 'aren',\n",
       " \"aren't\",\n",
       " 'couldn',\n",
       " \"couldn't\",\n",
       " 'didn',\n",
       " \"didn't\",\n",
       " 'doesn',\n",
       " \"doesn't\",\n",
       " 'hadn',\n",
       " \"hadn't\",\n",
       " 'hasn',\n",
       " \"hasn't\",\n",
       " 'haven',\n",
       " \"haven't\",\n",
       " 'isn',\n",
       " \"isn't\",\n",
       " 'ma',\n",
       " 'mightn',\n",
       " \"mightn't\",\n",
       " 'mustn',\n",
       " \"mustn't\",\n",
       " 'needn',\n",
       " \"needn't\",\n",
       " 'shan',\n",
       " \"shan't\",\n",
       " 'shouldn',\n",
       " \"shouldn't\",\n",
       " 'wasn',\n",
       " \"wasn't\",\n",
       " 'weren',\n",
       " \"weren't\",\n",
       " 'won',\n",
       " \"won't\",\n",
       " 'wouldn',\n",
       " \"wouldn't\"]"
      ]
     },
     "execution_count": 9,
     "metadata": {},
     "output_type": "execute_result"
    }
   ],
   "source": [
    "stopwords.words('english')"
   ]
  },
  {
   "cell_type": "code",
   "execution_count": 12,
   "id": "398df5cc-4eda-454f-84a4-ea1792f83c48",
   "metadata": {},
   "outputs": [],
   "source": [
    "stemmer = PorterStemmer()"
   ]
  },
  {
   "cell_type": "code",
   "execution_count": 17,
   "id": "7ad44bcd-8fe6-4441-8b7b-c74b1d9e7037",
   "metadata": {
    "scrolled": true
   },
   "outputs": [],
   "source": [
    "sentences = nltk.sent_tokenize(paragraph)"
   ]
  },
  {
   "cell_type": "code",
   "execution_count": 35,
   "id": "be1ce657-8468-4f86-aef9-c604a817f668",
   "metadata": {},
   "outputs": [
    {
     "name": "stdout",
     "output_type": "stream",
     "text": [
      "['\\nMy dear young friends of India,\\nI stand before you today with a heart full of hope and a mind brimming with dreams for our great nation.', 'I have three visions for India: Freedom, Development, and Strength.', 'These are not just words, but the pillars upon which we must build our future.', 'First, freedom.', 'We have won our political freedom, but now we must strive for freedom from poverty, illiteracy, and corruption.', 'We must protect our hard-earned liberty, nurture it, and build upon it.', 'Freedom is not just a right, but a responsibility.', 'We must use our freedom to innovate, to create, and to propel India forward.', 'Second, development.', \"It's time we see ourselves as a developed nation, not just a developing one.\", 'We have achieved much, but we often lack the self-confidence to recognize it.', 'Our scientists have sent missions to Mars, our IT professionals are sought after worldwide, and our youth are making breakthroughs in various fields.', 'Let us shed our inferiority complex and embrace our potential.', 'Third, strength.', 'India must stand up to the world, for only strength respects strength.', 'We need to be strong not just militarily, but economically, scientifically, and morally.', 'Our strength lies in our unity, our diversity, and our indomitable spirit.', 'Remember, my young friends, that excellence is a continuous process, not an accident.', 'It comes with continuous effort, planning, and execution.', 'Have the courage to think differently, to invent, to travel the unexplored path, to discover the impossible, and to conquer the problems and succeed.', 'Great dreams of great dreamers are always transcended.', 'You are the future of India.', 'The ignited mind of the youth is the most powerful resource on the earth, above the earth, and under the earth.', 'Your generation has the power to transform our nation.', 'But dreams alone are not enough.', 'We need action.', 'Ask not what your country can do for you, but what you can do for your country.', 'Each one of you has the potential to contribute to nation-building.', 'Whether you become a scientist, a teacher, an entrepreneur, or choose any other profession, your work can make a difference.', 'In conclusion, I want you to remember this: \"Dream, dream, dream.', 'Dreams transform into thoughts and thoughts result in action.\"', 'Let your thoughts and actions be the spark that ignites the fire of progress in our nation.', 'May God bless you and our great nation, India.', 'Thank you.']\n"
     ]
    }
   ],
   "source": [
    "print(sentences)"
   ]
  },
  {
   "cell_type": "code",
   "execution_count": 46,
   "id": "ec0e3b0a-6a72-4fa1-bff5-11b8349918ac",
   "metadata": {},
   "outputs": [
    {
     "name": "stdout",
     "output_type": "stream",
     "text": [
      "['my', 'dear', 'young', 'friend', 'india', ',', 'i', 'stand', 'today', 'heart', 'full', 'hope', 'mind', 'brim', 'dream', 'great', 'nation', '.']\n",
      "['i', 'three', 'vision', 'india', ':', 'freedom', ',', 'develop', ',', 'strength', '.']\n",
      "['these', 'word', ',', 'pillar', 'upon', 'must', 'build', 'futur', '.']\n",
      "['first', ',', 'freedom', '.']\n",
      "['we', 'polit', 'freedom', ',', 'must', 'strive', 'freedom', 'poverti', ',', 'illiteraci', ',', 'corrupt', '.']\n",
      "['we', 'must', 'protect', 'hard-earn', 'liberti', ',', 'nurtur', ',', 'build', 'upon', '.']\n",
      "['freedom', 'right', ',', 'respons', '.']\n",
      "['we', 'must', 'use', 'freedom', 'innov', ',', 'creat', ',', 'propel', 'india', 'forward', '.']\n",
      "['second', ',', 'develop', '.']\n",
      "['it', \"'s\", 'time', 'see', 'develop', 'nation', ',', 'develop', 'one', '.']\n",
      "['we', 'achiev', 'much', ',', 'often', 'lack', 'self-confid', 'recogn', '.']\n",
      "['our', 'scientist', 'sent', 'mission', 'mar', ',', 'it', 'profession', 'sought', 'worldwid', ',', 'youth', 'make', 'breakthrough', 'variou', 'field', '.']\n",
      "['let', 'us', 'shed', 'inferior', 'complex', 'embrac', 'potenti', '.']\n",
      "['third', ',', 'strength', '.']\n",
      "['india', 'must', 'stand', 'world', ',', 'strength', 'respect', 'strength', '.']\n",
      "['we', 'need', 'strong', 'militarili', ',', 'econom', ',', 'scientif', ',', 'moral', '.']\n",
      "['our', 'strength', 'lie', 'uniti', ',', 'divers', ',', 'indomit', 'spirit', '.']\n",
      "['rememb', ',', 'young', 'friend', ',', 'excel', 'continu', 'process', ',', 'accid', '.']\n",
      "['it', 'come', 'continu', 'effort', ',', 'plan', ',', 'execut', '.']\n",
      "['have', 'courag', 'think', 'differ', ',', 'invent', ',', 'travel', 'unexplor', 'path', ',', 'discov', 'imposs', ',', 'conquer', 'problem', 'succeed', '.']\n",
      "['great', 'dream', 'great', 'dreamer', 'alway', 'transcend', '.']\n",
      "['you', 'futur', 'india', '.']\n",
      "['the', 'ignit', 'mind', 'youth', 'power', 'resourc', 'earth', ',', 'earth', ',', 'earth', '.']\n",
      "['your', 'gener', 'power', 'transform', 'nation', '.']\n",
      "['but', 'dream', 'alon', 'enough', '.']\n",
      "['we', 'need', 'action', '.']\n",
      "['ask', 'countri', ',', 'countri', '.']\n",
      "['each', 'one', 'potenti', 'contribut', 'nation-build', '.']\n",
      "['whether', 'becom', 'scientist', ',', 'teacher', ',', 'entrepreneur', ',', 'choos', 'profess', ',', 'work', 'make', 'differ', '.']\n",
      "['in', 'conclus', ',', 'i', 'want', 'rememb', ':', '``', 'dream', ',', 'dream', ',', 'dream', '.']\n",
      "['dream', 'transform', 'thought', 'thought', 'result', 'action', '.', '``']\n",
      "['let', 'thought', 'action', 'spark', 'ignit', 'fire', 'progress', 'nation', '.']\n",
      "['may', 'god', 'bless', 'great', 'nation', ',', 'india', '.']\n",
      "['thank', '.']\n"
     ]
    }
   ],
   "source": [
    "## Apply Stopwords and Filter and then apply Stemming\n",
    "\n",
    "for i in range(len(sentences)):\n",
    "    words = nltk.word_tokenize(sentences[i])\n",
    "    print(words)\n",
    "    #words = [stemmer.stem(word) for word in words if word not in set(stopwords.words('english'))]\n",
    "    #sentences[i] = ' '.join(words) #converting all the list of words to sentences"
   ]
  },
  {
   "cell_type": "code",
   "execution_count": 42,
   "id": "dca2f6c4-21ca-435d-ad39-08726e3d7006",
   "metadata": {},
   "outputs": [
    {
     "data": {
      "text/plain": [
       "['my dear young friend india , i stand today heart full hope mind brim dream great nation .',\n",
       " 'i three vision india : freedom , develop , strength .',\n",
       " 'these word , pillar upon must build futur .',\n",
       " 'first , freedom .',\n",
       " 'we polit freedom , must strive freedom poverti , illiteraci , corrupt .',\n",
       " 'we must protect hard-earn liberti , nurtur , build upon .',\n",
       " 'freedom right , respons .',\n",
       " 'we must use freedom innov , creat , propel india forward .',\n",
       " 'second , develop .',\n",
       " \"it 's time see develop nation , develop one .\",\n",
       " 'we achiev much , often lack self-confid recogn .',\n",
       " 'our scientist sent mission mar , it profession sought worldwid , youth make breakthrough variou field .',\n",
       " 'let us shed inferior complex embrac potenti .',\n",
       " 'third , strength .',\n",
       " 'india must stand world , strength respect strength .',\n",
       " 'we need strong militarili , econom , scientif , moral .',\n",
       " 'our strength lie uniti , divers , indomit spirit .',\n",
       " 'rememb , young friend , excel continu process , accid .',\n",
       " 'it come continu effort , plan , execut .',\n",
       " 'have courag think differ , invent , travel unexplor path , discov imposs , conquer problem succeed .',\n",
       " 'great dream great dreamer alway transcend .',\n",
       " 'you futur india .',\n",
       " 'the ignit mind youth power resourc earth , earth , earth .',\n",
       " 'your gener power transform nation .',\n",
       " 'but dream alon enough .',\n",
       " 'we need action .',\n",
       " 'ask countri , countri .',\n",
       " 'each one potenti contribut nation-build .',\n",
       " 'whether becom scientist , teacher , entrepreneur , choos profess , work make differ .',\n",
       " 'in conclus , i want rememb : `` dream , dream , dream .',\n",
       " \"dream transform thought thought result action . ''\",\n",
       " 'let thought action spark ignit fire progress nation .',\n",
       " 'may god bless great nation , india .',\n",
       " 'thank .']"
      ]
     },
     "execution_count": 42,
     "metadata": {},
     "output_type": "execute_result"
    }
   ],
   "source": [
    "sentences"
   ]
  },
  {
   "cell_type": "code",
   "execution_count": null,
   "id": "9ea4cd1c-3e49-4030-8fc2-9d4a9f979d1f",
   "metadata": {},
   "outputs": [],
   "source": []
  }
 ],
 "metadata": {
  "kernelspec": {
   "display_name": "Python [conda env:base] *",
   "language": "python",
   "name": "conda-base-py"
  },
  "language_info": {
   "codemirror_mode": {
    "name": "ipython",
    "version": 3
   },
   "file_extension": ".py",
   "mimetype": "text/x-python",
   "name": "python",
   "nbconvert_exporter": "python",
   "pygments_lexer": "ipython3",
   "version": "3.12.7"
  }
 },
 "nbformat": 4,
 "nbformat_minor": 5
}
